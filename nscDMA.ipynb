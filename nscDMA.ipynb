{
 "cells": [
  {
   "cell_type": "code",
   "execution_count": 1,
   "id": "2720b048-9200-4e32-96b7-39f5215671bb",
   "metadata": {},
   "outputs": [
    {
     "name": "stdout",
     "output_type": "stream",
     "text": [
      "\n",
      "Fetching data for SKYGOLD.NS (NSE)...\n",
      "\n"
     ]
    },
    {
     "name": "stderr",
     "output_type": "stream",
     "text": [
      "SKYGOLD.NS: Period '7y' is invalid, must be one of ['1d', '5d', '1mo', '3mo', '6mo', '1y', '2y', 'ytd', 'max']\n"
     ]
    },
    {
     "name": "stdout",
     "output_type": "stream",
     "text": [
      "Historical data for SKYGOLD.NS (NSE):\n",
      " Empty DataFrame\n",
      "Columns: [Open, High, Low, Close, Adj Close, Volume]\n",
      "Index: []\n",
      "\n",
      "Stock info for SKYGOLD.NS (NSE):\n",
      " {'address1': 'Plot No. D-222/2', 'address2': 'TTC Industrial Area MIDC Shirawane Navi Mumbai', 'city': 'Thane', 'zip': '400706', 'country': 'India', 'phone': '91 22 2241 6363', 'website': 'https://skygold.co.in', 'industry': 'Luxury Goods', 'industryKey': 'luxury-goods', 'industryDisp': 'Luxury Goods', 'sector': 'Consumer Cyclical', 'sectorKey': 'consumer-cyclical', 'sectorDisp': 'Consumer Cyclical', 'longBusinessSummary': 'Sky Gold Limited designs, manufactures, assembles, cuts, polishes, markets, and sells gold and silver jewelry in India. The company offers necklaces, rings, pendants, bracelets, earrings, bangles, and various other jewelry, as well as customized jewelry. It also imports, exports, buys, sells, deals, distributes, and wholesales jewelry. The company serves wholesalers, showrooms, and retailers. Sky Gold Limited was founded in 2005 and is based in Thane, India.', 'fullTimeEmployees': 542, 'companyOfficers': [{'maxAge': 1, 'name': 'Mr. Mangesh Ramesh Chauhan', 'age': 44, 'title': 'Chairman, MD & CFO', 'yearBorn': 1979, 'fiscalYear': 2024, 'totalPay': 7875000, 'exercisedValue': 0, 'unexercisedValue': 0}, {'maxAge': 1, 'name': 'Ms. Nikita  Jain', 'title': 'Company Secretary & Compliance Officer', 'fiscalYear': 2024, 'totalPay': 220000, 'exercisedValue': 0, 'unexercisedValue': 0}, {'maxAge': 1, 'name': 'Mr. Mahendra Champalal Chauhan', 'age': 45, 'title': 'Whole-Time Director', 'yearBorn': 1978, 'fiscalYear': 2024, 'totalPay': 7875000, 'exercisedValue': 0, 'unexercisedValue': 0}, {'maxAge': 1, 'name': 'Mr. Darshan Ramesh Chauhan', 'age': 39, 'title': 'Whole-time Director', 'yearBorn': 1984, 'fiscalYear': 2024, 'totalPay': 7875000, 'exercisedValue': 0, 'unexercisedValue': 0}, {'maxAge': 1, 'name': 'Mr. Jayesh  Sanghavi', 'age': 54, 'title': 'Senior Accountant', 'yearBorn': 1969, 'fiscalYear': 2024, 'exercisedValue': 0, 'unexercisedValue': 0}, {'maxAge': 1, 'name': 'Mr. Dina  Ram', 'age': 33, 'title': 'HR Head', 'yearBorn': 1990, 'fiscalYear': 2024, 'exercisedValue': 0, 'unexercisedValue': 0}, {'maxAge': 1, 'name': 'Mr. Dilip Bechuram Huduk', 'age': 53, 'title': 'Design Head', 'yearBorn': 1970, 'fiscalYear': 2024, 'exercisedValue': 0, 'unexercisedValue': 0}], 'compensationAsOfEpochDate': 1735603200, 'maxAge': 86400, 'priceHint': 2, 'previousClose': 3958.6, 'open': 3930.0, 'dayLow': 3880.0, 'dayHigh': 4156.5, 'regularMarketPreviousClose': 3958.6, 'regularMarketOpen': 3930.0, 'regularMarketDayLow': 3880.0, 'regularMarketDayHigh': 4156.5, 'dividendRate': 2.0, 'dividendYield': 0.0008, 'exDividendDate': 1695168000, 'payoutRatio': 0.024300002, 'beta': -0.231, 'trailingPE': 55.383625, 'volume': 38697, 'regularMarketVolume': 38697, 'averageVolume': 36069, 'averageVolume10days': 36295, 'averageDailyVolume10Day': 36295, 'bid': 4111.0, 'ask': 4120.0, 'marketCap': 60109598720, 'fiftyTwoWeekLow': 892.95, 'fiftyTwoWeekHigh': 4156.5, 'priceToSalesTrailing12Months': 2.8721912, 'fiftyDayAverage': 3105.22, 'twoHundredDayAverage': 1951.959, 'currency': 'INR', 'enterpriseValue': 44892598272, 'profitMargins': 0.024389999, 'floatShares': 3537945, 'sharesOutstanding': 14654000, 'heldPercentInsiders': 0.71656, 'heldPercentInstitutions': 0.05553, 'impliedSharesOutstanding': 14660700, 'bookValue': 184.417, 'priceToBook': 22.232492, 'lastFiscalYearEnd': 1711843200, 'nextFiscalYearEnd': 1743379200, 'mostRecentQuarter': 1719705600, 'earningsQuarterlyGrowth': 0.989, 'netIncomeToCommon': 510379008, 'trailingEps': 74.03, 'enterpriseToRevenue': 2.145, 'enterpriseToEbitda': 48.146, '52WeekChange': 3.4111876, 'SandP52WeekChange': 0.31181884, 'lastDividendValue': 1.0, 'lastDividendDate': 1695168000, 'exchange': 'NSI', 'quoteType': 'EQUITY', 'symbol': 'SKYGOLD.NS', 'underlyingSymbol': 'SKYGOLD.NS', 'shortName': 'SKY GOLD LIMITED', 'longName': 'Sky Gold Limited', 'firstTradeDateEpochUtc': 1672976700, 'timeZoneFullName': 'Asia/Kolkata', 'timeZoneShortName': 'IST', 'uuid': '8427e6f8-8ae1-3a9a-b4d1-5b2118dd2e86', 'messageBoardId': 'finmb_291853368', 'gmtOffSetMilliseconds': 19800000, 'currentPrice': 4100.05, 'recommendationKey': 'none', 'totalCash': 767582016, 'totalCashPerShare': 56.214, 'ebitda': 932428736, 'totalDebt': 3303154944, 'totalRevenue': 20928133120, 'debtToEquity': 135.31, 'revenuePerShare': 1725.246, 'returnOnEquity': 0.29825002, 'earningsGrowth': 0.608, 'revenueGrowth': 0.924, 'grossMargins': 0.060370002, 'ebitdaMargins': 0.044549998, 'operatingMargins': 0.048699997, 'financialCurrency': 'INR', 'trailingPegRatio': None}\n",
      "\n",
      "Fetching data for 541967.BO (BSE)...\n",
      "\n"
     ]
    },
    {
     "name": "stderr",
     "output_type": "stream",
     "text": [
      "$541967.BO: possibly delisted; no price data found  (period=7y) (Yahoo error = \"No data found, symbol may be delisted\")\n"
     ]
    },
    {
     "name": "stdout",
     "output_type": "stream",
     "text": [
      "Historical data for 541967.BO (BSE):\n",
      " Empty DataFrame\n",
      "Columns: [Open, High, Low, Close, Adj Close, Volume]\n",
      "Index: []\n",
      "\n",
      "Stock info for 541967.BO (BSE):\n",
      " {'quoteType': 'NONE', 'symbol': '541967.BO', 'underlyingSymbol': '541967.BO', 'uuid': '6c3b39ec-970b-3b00-a564-74df29f8b14b', 'messageBoardId': 'finmb_291853368', 'maxAge': 86400, 'trailingPegRatio': None}\n"
     ]
    }
   ],
   "source": [
    "import yfinance as yf\n",
    "\n",
    "# Define the stock symbols for NSE and BSE\n",
    "symbols = {\n",
    "    \"NSE\": \"SKYGOLD.NS\",  # NSE symbol for SKYGOLD\n",
    "    \"BSE\": \"541967.BO\"    # BSE symbol for SKYGOLD\n",
    "}\n",
    "\n",
    "# Fetch data for both NSE and BSE\n",
    "for exchange, symbol in symbols.items():\n",
    "    try:\n",
    "        print(f\"\\nFetching data for {symbol} ({exchange})...\\n\")\n",
    "        \n",
    "        # Initialize the stock\n",
    "        stock = yf.Ticker(symbol)\n",
    "        \n",
    "        # Fetch historical data (last 6 months)\n",
    "        historical_data = stock.history(period=\"7y\")\n",
    "        print(f\"Historical data for {symbol} ({exchange}):\\n\", historical_data)\n",
    "        \n",
    "        # Fetch stock info\n",
    "        stock_info = stock.info\n",
    "        print(f\"\\nStock info for {symbol} ({exchange}):\\n\", stock_info)\n",
    "    except Exception as e:\n",
    "        print(f\"Error fetching data for {symbol} ({exchange}): {e}\")\n"
   ]
  },
  {
   "cell_type": "code",
   "execution_count": null,
   "id": "9530a762-c1b8-4a1d-89ce-5daa880687ff",
   "metadata": {},
   "outputs": [],
   "source": []
  }
 ],
 "metadata": {
  "kernelspec": {
   "display_name": "Python 3 (ipykernel)",
   "language": "python",
   "name": "python3"
  },
  "language_info": {
   "codemirror_mode": {
    "name": "ipython",
    "version": 3
   },
   "file_extension": ".py",
   "mimetype": "text/x-python",
   "name": "python",
   "nbconvert_exporter": "python",
   "pygments_lexer": "ipython3",
   "version": "3.9.13"
  }
 },
 "nbformat": 4,
 "nbformat_minor": 5
}
