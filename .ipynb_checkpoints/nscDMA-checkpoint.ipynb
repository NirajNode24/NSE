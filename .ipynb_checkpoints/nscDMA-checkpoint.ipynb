{
 "cells": [
  {
   "cell_type": "code",
   "execution_count": 5,
   "id": "2720b048-9200-4e32-96b7-39f5215671bb",
   "metadata": {},
   "outputs": [
    {
     "name": "stdout",
     "output_type": "stream",
     "text": [
      "\n",
      "Fetching data for BETA.NS (NSE)...\n",
      "\n",
      "Historical data for BETA.NS (NSE):\n",
      "                                   Open         High          Low        Close  \\\n",
      "Date                                                                            \n",
      "2023-11-28 00:00:00+05:30  1167.000000  1190.000000  1165.000000  1176.500000   \n",
      "2023-11-29 00:00:00+05:30  1186.000000  1200.000000  1160.000000  1167.900024   \n",
      "2023-11-30 00:00:00+05:30  1180.000000  1200.000000  1170.000000  1177.000000   \n",
      "2023-12-01 00:00:00+05:30  1200.000000  1219.300049  1170.000000  1180.000000   \n",
      "2023-12-04 00:00:00+05:30  1200.050049  1232.000000  1185.000000  1194.900024   \n",
      "...                                ...          ...          ...          ...   \n",
      "2024-11-19 00:00:00+05:30  1988.000000  2034.949951  1988.000000  2015.000000   \n",
      "2024-11-21 00:00:00+05:30  2016.000000  2026.900024  1931.250000  1983.000000   \n",
      "2024-11-22 00:00:00+05:30  1983.000000  2108.899902  1983.000000  2084.899902   \n",
      "2024-11-25 00:00:00+05:30  2110.949951  2260.000000  2110.949951  2173.199951   \n",
      "2024-11-26 00:00:00+05:30  2144.100098  2195.000000  2135.000000  2192.000000   \n",
      "\n",
      "                           Volume  Dividends  Stock Splits  Capital Gains  \n",
      "Date                                                                       \n",
      "2023-11-28 00:00:00+05:30    3300        0.0           0.0            0.0  \n",
      "2023-11-29 00:00:00+05:30    4100        0.0           0.0            0.0  \n",
      "2023-11-30 00:00:00+05:30    2000        0.0           0.0            0.0  \n",
      "2023-12-01 00:00:00+05:30    3300        0.0           0.0            0.0  \n",
      "2023-12-04 00:00:00+05:30    5700        0.0           0.0            0.0  \n",
      "...                           ...        ...           ...            ...  \n",
      "2024-11-19 00:00:00+05:30    4700        0.0           0.0            0.0  \n",
      "2024-11-21 00:00:00+05:30    4000        0.0           0.0            0.0  \n",
      "2024-11-22 00:00:00+05:30    5800        0.0           0.0            0.0  \n",
      "2024-11-25 00:00:00+05:30    4300        0.0           0.0            0.0  \n",
      "2024-11-26 00:00:00+05:30    5000        0.0           0.0            0.0  \n",
      "\n",
      "[244 rows x 8 columns]\n",
      "\n",
      "Stock info for BETA.NS (NSE):\n",
      " {'exchange': 'NSI', 'quoteType': 'MUTUALFUND', 'symbol': 'BETA.NS', 'underlyingSymbol': 'BETA.NS', 'shortName': 'BETA.NS,0P0001BSG7,9300', 'firstTradeDateEpochUtc': 1507866300, 'timeZoneFullName': 'Asia/Kolkata', 'timeZoneShortName': 'IST', 'uuid': 'c6de6f0e-5307-3869-927d-12e0f3c4298a', 'messageBoardId': 'finmb_535780216', 'gmtOffSetMilliseconds': 19800000, 'maxAge': 86400, 'trailingPegRatio': None}\n"
     ]
    }
   ],
   "source": [
    "import yfinance as yf\n",
    "impot panda ad pd\n",
    "\n",
    "\n",
    "\n",
    "df = pd.raed(\n",
    "\n",
    "\n",
    "\n",
    "# Fetch data for both NSE and BSE\n",
    "for exchange, symbol in symbols.items():\n",
    "    try:\n",
    "        print(f\"\\nFetching data for {symbol} ({exchange})...\\n\")\n",
    "        \n",
    "        # Initialize the stock\n",
    "        stock = yf.Ticker(symbol)\n",
    "        \n",
    "        # Fetch historical data (last 6 months)\n",
    "        historical_data = stock.history(period=\"1y\")\n",
    "        print(f\"Historical data for {symbol} ({exchange}):\\n\", historical_data)\n",
    "        \n",
    "        # Fetch stock info\n",
    "        stock_info = stock.info\n",
    "        print(f\"\\nStock info for {symbol} ({exchange}):\\n\", stock_info)\n",
    "    except Exception as e:\n",
    "        print(f\"Error fetching data for {symbol} ({exchange}): {e}\")\n"
   ]
  },
  {
   "cell_type": "code",
   "execution_count": null,
   "id": "9530a762-c1b8-4a1d-89ce-5daa880687ff",
   "metadata": {},
   "outputs": [],
   "source": []
  }
 ],
 "metadata": {
  "kernelspec": {
   "display_name": "Python 3 (ipykernel)",
   "language": "python",
   "name": "python3"
  },
  "language_info": {
   "codemirror_mode": {
    "name": "ipython",
    "version": 3
   },
   "file_extension": ".py",
   "mimetype": "text/x-python",
   "name": "python",
   "nbconvert_exporter": "python",
   "pygments_lexer": "ipython3",
   "version": "3.9.13"
  }
 },
 "nbformat": 4,
 "nbformat_minor": 5
}
